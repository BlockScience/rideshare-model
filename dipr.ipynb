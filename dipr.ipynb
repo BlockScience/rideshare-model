{
 "cells": [
  {
   "cell_type": "code",
   "execution_count": null,
   "metadata": {},
   "outputs": [],
   "source": [
    "import numpy as np\n",
    "\n",
    "# Define the size of the grid\n",
    "n = 10\n",
    "\n",
    "# Generate random travel times (between 1 and 20 minutes)\n",
    "np.random.seed(0)  # For reproducibility\n",
    "T = np.random.randint(1, 21, size=(n * n, n * n))\n",
    "\n",
    "# Generate random priority values (between 0.5 and 3.0)\n",
    "P = np.random.uniform(0.5, 3.0, size=(n * n, n * n))\n",
    "\n",
    "# Ensure the diagonal is zero (no self-loops)\n",
    "np.fill_diagonal(T, 0)\n",
    "np.fill_diagonal(P, 0)\n",
    "\n",
    "print(\"Travel Time Matrix (T):\\n\", T)\n",
    "print(\"Priority Matrix (P):\\n\", P)\n",
    "\n"
   ]
  },
  {
   "cell_type": "code",
   "execution_count": null,
   "metadata": {},
   "outputs": [],
   "source": [
    "def calculate_priorities(queue_lengths, alpha):\n",
    "    num_zones = queue_lengths.shape[0]\n",
    "    priorities = np.zeros(num_zones)\n",
    "    for t in range(queue_lengths.shape[1]):\n",
    "        priorities += alpha ** (queue_lengths.shape[1] - t - 1) * queue_lengths[:, t]\n",
    "    return priorities\n",
    "\n",
    "# Example queue lengths over time for each zone (100 zones, 10 time steps)\n",
    "queue_lengths = np.random.randint(0, 10, size=(n * n, 10))\n",
    "\n",
    "# Define the discount factor\n",
    "alpha = 0.9\n",
    "\n",
    "# Calculate the priorities\n",
    "priorities = calculate_priorities(queue_lengths, alpha)\n",
    "print(\"Priorities:\\n\", priorities)\n",
    "\n"
   ]
  },
  {
   "cell_type": "code",
   "execution_count": 12,
   "metadata": {},
   "outputs": [
    {
     "name": "stdout",
     "output_type": "stream",
     "text": [
      "First row of Combined Cost Matrix (C):\n",
      " [28.27904798 44.27904798 29.27904798 32.27904798 32.27904798 36.27904798\n",
      " 38.27904798 48.27904798 47.27904798 33.27904798 35.27904798 41.27904798\n",
      " 30.27904798 35.27904798 36.27904798 43.27904798 46.27904798 34.27904798\n",
      " 42.27904798 37.27904798 38.27904798 48.27904798 45.27904798 48.27904798\n",
      " 34.27904798 44.27904798 44.27904798 29.27904798 47.27904798 32.27904798\n",
      " 46.27904798 48.27904798 48.27904798 48.27904798 43.27904798 36.27904798\n",
      " 29.27904798 30.27904798 38.27904798 29.27904798 39.27904798 32.27904798\n",
      " 40.27904798 47.27904798 31.27904798 29.27904798 29.27904798 33.27904798\n",
      " 34.27904798 35.27904798 37.27904798 46.27904798 44.27904798 33.27904798\n",
      " 38.27904798 39.27904798 30.27904798 30.27904798 36.27904798 38.27904798\n",
      " 32.27904798 35.27904798 40.27904798 43.27904798 47.27904798 29.27904798\n",
      " 43.27904798 32.27904798 41.27904798 39.27904798 40.27904798 33.27904798\n",
      " 35.27904798 33.27904798 44.27904798 32.27904798 41.27904798 33.27904798\n",
      " 37.27904798 43.27904798 44.27904798 32.27904798 44.27904798 42.27904798\n",
      " 45.27904798 46.27904798 34.27904798 38.27904798 32.27904798 29.27904798\n",
      " 34.27904798 29.27904798 46.27904798 47.27904798 33.27904798 31.27904798\n",
      " 45.27904798 32.27904798 31.27904798 39.27904798]\n"
     ]
    }
   ],
   "source": [
    "# Set the lambda value which is used as a scaling factor for priorities\n",
    "lambda_value = 1\n",
    "\n",
    "# Calculate the Combined Cost Matrix (C) by adding the travel time matrix (T) and the scaled priorities\n",
    "# priorities.reshape(-1, 1) reshapes the priority vector into a column vector for broadcasting over rows of T\n",
    "C = T + lambda_value * priorities.reshape(-1, 1)\n",
    "\n",
    "# Print the firs row of Combined Cost Matrix to verify the results\n",
    "print(\"First row of Combined Cost Matrix (C):\\n\", C[0])"
   ]
  },
  {
   "cell_type": "code",
   "execution_count": 11,
   "metadata": {},
   "outputs": [
    {
     "name": "stdout",
     "output_type": "stream",
     "text": [
      "Graph:\n",
      " DiGraph with 100 nodes and 10000 edges\n",
      "\n",
      "\n",
      "Shortest Path from Zone 0 to Zone 99:\n",
      " [0, 99]\n"
     ]
    }
   ],
   "source": [
    "import networkx as nx\n",
    "\n",
    "# Create a directed graph from the combined cost matrix\n",
    "# Initialize a directed graph (DiGraph) using the combined cost matrix C as the adjacency matrix\n",
    "G = nx.DiGraph(C)\n",
    "print(\"Graph:\\n\", G)\n",
    "print(\"\\n\")\n",
    "\n",
    "# Find the shortest path from zone 0 to zone 99\n",
    "# Compute the shortest path in the graph from node (zone) 0 to node (zone) 99 considering the weights ('weight') on the edges, which represent the combined costs\n",
    "\n",
    "shortest_path = nx.shortest_path(G, source=0, target=99, weight='weight')  \n",
    "print(\"Shortest Path from Zone 0 to Zone 99:\\n\", shortest_path)  "
   ]
  },
  {
   "cell_type": "code",
   "execution_count": null,
   "metadata": {},
   "outputs": [],
   "source": [
    "# Function to assign drivers to riders\n",
    "def assign_drivers_to_riders(drivers, riders, C):\n",
    "    assignments = []  # Initialize an empty list to store the assignments of drivers to riders\n",
    "\n",
    "    # Iterate over each rider to find the best driver\n",
    "    for rider in riders:\n",
    "        # Find the driver with the minimum combined cost to the rider using a lambda function\n",
    "        # The lambda function takes each driver 'd' and returns the cost from driver 'd' to the rider\n",
    "        best_driver = min(drivers, key=lambda d: C[d, rider])\n",
    "        \n",
    "        # Append the best driver and the rider as a tuple to the assignments list\n",
    "        assignments.append((best_driver, rider))\n",
    "        \n",
    "        # Remove the assigned driver from the list of available drivers to prevent reassignment\n",
    "        drivers.remove(best_driver)\n",
    "    \n",
    "    # Return the list of assignments\n",
    "    return assignments\n",
    "\n",
    "# Example drivers and riders\n",
    "drivers = list(range(5))  # Drivers in zones 0-4, represented as a list of integers\n",
    "riders = list(range(5, 10))  # Riders in zones 5-9, represented as a list of integers\n",
    "\n",
    "# Assign drivers to riders using the defined function\n",
    "assignments = assign_drivers_to_riders(drivers, riders, C)\n",
    "print(\"Driver to Rider Assignments:\\n\", assignments)  # Print the assignments to the console\n"
   ]
  },
  {
   "cell_type": "code",
   "execution_count": null,
   "metadata": {},
   "outputs": [],
   "source": [
    "def calculate_price(travel_time, priority, base_rate=1.0):\n",
    "    # This function calculates the price of a ride based on travel time, priority, and a base rate.\n",
    "    # The price is computed as the product of the base rate, the sum of 1 and the priority factor, and the travel time.\n",
    "    # The priority factor adjusts the price based on the importance or urgency of the ride.\n",
    "    return base_rate * (1 + priority) * travel_time\n",
    "\n",
    "# Calculate prices for the assignments\n",
    "prices = [calculate_price(T[d, r], priorities[r]) for d, r in assignments]\n",
    "# This list comprehension iterates over each driver-rider pair in the 'assignments' list.\n",
    "# For each pair, it retrieves the travel time 'T[d, r]' and the priority 'priorities[r]' for the rider 'r' and driver 'd'.\n",
    "# It then calls the 'calculate_price' function to compute the price for each assignment.\n",
    "print(\"Prices for each assignment:\\n\", prices)\n",
    "# Finally, it prints out the calculated prices for each driver-rider assignment.\n"
   ]
  }
 ],
 "metadata": {
  "kernelspec": {
   "display_name": "myenv",
   "language": "python",
   "name": "myenv"
  },
  "language_info": {
   "codemirror_mode": {
    "name": "ipython",
    "version": 3
   },
   "file_extension": ".py",
   "mimetype": "text/x-python",
   "name": "python",
   "nbconvert_exporter": "python",
   "pygments_lexer": "ipython3",
   "version": "3.12.2"
  }
 },
 "nbformat": 4,
 "nbformat_minor": 2
}
