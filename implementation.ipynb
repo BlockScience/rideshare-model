{
 "cells": [
  {
   "cell_type": "code",
   "execution_count": 1,
   "metadata": {},
   "outputs": [],
   "source": [
    "import os\n",
    "\n",
    "os.chdir(\"..\")\n",
    "\n",
    "from MSML.src.math_spec_mapping import (load_from_json, create_action_chains_graph, write_out_boundary_actions,\n",
    "                      write_out_policies, write_out_mechanisms, load_svg_graphviz, write_basic_report_full,\n",
    "                      write_action_chain_reports, write_spec_tree, create_parameter_impact_table,\n",
    "                     write_entity_reports, write_wiring_report, write_entity_markdown_report,\n",
    "                     write_all_markdown_reports)\n",
    "\n",
    "os.chdir(\"rideshare-model\")\n",
    "\n",
    "\n",
    "\n",
    "from IPython.display import display\n",
    "from copy import deepcopy\n",
    "from src import math_spec_json\n",
    "from simulation import create_driver_map, create_rider_map, initialize_event_queue, params_base, state_base\n",
    "\n",
    "ms = load_from_json(deepcopy(math_spec_json))"
   ]
  },
  {
   "cell_type": "code",
   "execution_count": 2,
   "metadata": {},
   "outputs": [
    {
     "name": "stdout",
     "output_type": "stream",
     "text": [
      "No python implementation for Pop Event Mechanism. To fix this, go to Implementations/Python/Mechanisms and add Pop Event Mechanism\n",
      "The following wirings were not loading: ['Request Ride Mechanisms Wiring', 'Request Ride Wiring']\n"
     ]
    },
    {
     "ename": "KeyError",
     "evalue": "'Request Ride Wiring'",
     "output_type": "error",
     "traceback": [
      "\u001b[0;31m---------------------------------------------------------------------------\u001b[0m",
      "\u001b[0;31mKeyError\u001b[0m                                  Traceback (most recent call last)",
      "\u001b[0;32m/var/folders/y0/fwkpk2ps087b_2qxvhjstrfr0000gn/T/ipykernel_51432/4078427799.py\u001b[0m in \u001b[0;36m<module>\u001b[0;34m\u001b[0m\n\u001b[1;32m      6\u001b[0m \u001b[0;34m\u001b[0m\u001b[0m\n\u001b[1;32m      7\u001b[0m \u001b[0;34m\u001b[0m\u001b[0m\n\u001b[0;32m----> 8\u001b[0;31m \u001b[0mmsi\u001b[0m\u001b[0;34m.\u001b[0m\u001b[0mwiring\u001b[0m\u001b[0;34m[\u001b[0m\u001b[0;34m\"Request Ride Wiring\"\u001b[0m\u001b[0;34m]\u001b[0m\u001b[0;34m(\u001b[0m\u001b[0mstate\u001b[0m\u001b[0;34m,\u001b[0m \u001b[0mparams\u001b[0m\u001b[0;34m,\u001b[0m \u001b[0;34m[\u001b[0m\u001b[0;34m]\u001b[0m\u001b[0;34m)\u001b[0m\u001b[0;34m\u001b[0m\u001b[0;34m\u001b[0m\u001b[0m\n\u001b[0m",
      "\u001b[0;31mKeyError\u001b[0m: 'Request Ride Wiring'"
     ]
    }
   ],
   "source": [
    "# Testing a full wiring\n",
    "msi = ms.build_implementation(params_base)\n",
    "state, params = msi.prepare_state_and_params(state_base, params_base, state_preperation_functions=[create_driver_map,\n",
    "                                                                                                   create_rider_map,\n",
    "                                                                                                   initialize_event_queue])\n",
    "\n",
    "\n",
    "msi.wiring[\"Request Ride Wiring\"](state, params, [])"
   ]
  },
  {
   "cell_type": "code",
   "execution_count": 3,
   "metadata": {},
   "outputs": [],
   "source": [
    "# Testing the individual components of a wiring\n",
    "msi = ms.build_implementation(params_base)\n",
    "state, params = msi.prepare_state_and_params(state_base, params_base, state_preperation_functions=[create_driver_map,\n",
    "                                                                                                   create_rider_map,\n",
    "                                                                                                   initialize_event_queue])\n",
    "\n",
    "\n",
    "spaces = msi.boundary_actions['Request Ride Boundary Action'](state, params,[])\n",
    "spaces = msi.policies['Ride Pricing Policy'](state, params,spaces)\n",
    "spaces = msi.policies['Ride Confirmation Policy'](state, params,spaces)\n",
    "msi.mechanisms[\"Log Ride Request Mechanism\"](state, params,spaces[:1])\n",
    "msi.mechanisms[\"Add Event Mechanism\"](state, params,spaces[1:2])\n",
    "msi.mechanisms[\"Update Driver State Mechanism\"](state, params,spaces[2:3])\n",
    "msi.mechanisms[\"Update Rider State Mechanism\"](state, params,spaces[3:4])\n"
   ]
  },
  {
   "cell_type": "code",
   "execution_count": 4,
   "metadata": {},
   "outputs": [
    {
     "data": {
      "text/plain": [
       "{'Riders': [{'User ID': 1, 'State': 'Idle'},\n",
       "  {'User ID': 2, 'State': 'Idle'},\n",
       "  {'User ID': 3, 'State': 'En Route'},\n",
       "  {'User ID': 4, 'State': 'Idle'}],\n",
       " 'Drivers': [{'Driver ID': 1, 'State': 'Idle'},\n",
       "  {'Driver ID': 2, 'State': 'Idle'},\n",
       "  {'Driver ID': 3, 'State': 'Idle'},\n",
       "  {'Driver ID': 4, 'State': 'En Route'}],\n",
       " 'Ride Request Log': [{'user_id': 3,\n",
       "   'source_location': 'TBD',\n",
       "   'target_location': 'TBD',\n",
       "   'maximum_price': 100,\n",
       "   'maximum_wait_time': 5,\n",
       "   'ride_time': 6,\n",
       "   'current_time': 5,\n",
       "   'quoted_price': 50,\n",
       "   'quoted_pickup_time': 5,\n",
       "   'driver_id': 4}],\n",
       " 'Event Queue': [Event(t=5, action='Request Ride', spaces=[{'ride_time': 6}]),\n",
       "  Event(t=10, action='Request Ride', spaces=[{'ride_time': 50}]),\n",
       "  Event(t=25, action='Request Ride', spaces=[{'ride_time': 10}]),\n",
       "  Event(t=16, action='Complete Ride', spaces=[{}])],\n",
       " 'Stateful Metrics': {},\n",
       " 'Driver Map': {1: {'Driver ID': 1, 'State': 'Idle'},\n",
       "  2: {'Driver ID': 2, 'State': 'Idle'},\n",
       "  3: {'Driver ID': 3, 'State': 'Idle'},\n",
       "  4: {'Driver ID': 4, 'State': 'En Route'}},\n",
       " 'Rider Map': {1: {'User ID': 1, 'State': 'Idle'},\n",
       "  2: {'User ID': 2, 'State': 'Idle'},\n",
       "  3: {'User ID': 3, 'State': 'En Route'},\n",
       "  4: {'User ID': 4, 'State': 'Idle'}}}"
      ]
     },
     "execution_count": 4,
     "metadata": {},
     "output_type": "execute_result"
    }
   ],
   "source": [
    "state"
   ]
  },
  {
   "cell_type": "code",
   "execution_count": 6,
   "metadata": {},
   "outputs": [
    {
     "data": {
      "text/plain": [
       "{'Riders': [{'User ID': 1, 'State': 'Idle'},\n",
       "  {'User ID': 2, 'State': 'En Route'},\n",
       "  {'User ID': 3, 'State': 'Idle'},\n",
       "  {'User ID': 4, 'State': 'En Route'}],\n",
       " 'Drivers': [{'Driver ID': 1, 'State': 'Idle'},\n",
       "  {'Driver ID': 2, 'State': 'En Route'},\n",
       "  {'Driver ID': 3, 'State': 'En Route'},\n",
       "  {'Driver ID': 4, 'State': 'Idle'}],\n",
       " 'Ride Request Log': [{'user_id': 4,\n",
       "   'source_location': 'TBD',\n",
       "   'target_location': 'TBD',\n",
       "   'maximum_price': 100,\n",
       "   'maximum_wait_time': 5,\n",
       "   'ride_time': 6,\n",
       "   'current_time': 5,\n",
       "   'quoted_price': 50,\n",
       "   'quoted_pickup_time': 5,\n",
       "   'driver_id': 2},\n",
       "  {'user_id': 2,\n",
       "   'source_location': 'TBD',\n",
       "   'target_location': 'TBD',\n",
       "   'maximum_price': 100,\n",
       "   'maximum_wait_time': 5,\n",
       "   'ride_time': 6,\n",
       "   'current_time': 5,\n",
       "   'quoted_price': 50,\n",
       "   'quoted_pickup_time': 5,\n",
       "   'driver_id': 3}],\n",
       " 'Event Queue': [Event(t=5, action='Request Ride', spaces=[{'ride_time': 6}]),\n",
       "  Event(t=10, action='Request Ride', spaces=[{'ride_time': 50}]),\n",
       "  Event(t=25, action='Request Ride', spaces=[{'ride_time': 10}]),\n",
       "  Event(t=16, action='Complete Ride', spaces=[{}]),\n",
       "  Event(t=16, action='Complete Ride', spaces=[{}])],\n",
       " 'Stateful Metrics': {},\n",
       " 'Driver Map': {1: {'Driver ID': 1, 'State': 'Idle'},\n",
       "  2: {'Driver ID': 2, 'State': 'En Route'},\n",
       "  3: {'Driver ID': 3, 'State': 'En Route'},\n",
       "  4: {'Driver ID': 4, 'State': 'Idle'}},\n",
       " 'Rider Map': {1: {'User ID': 1, 'State': 'Idle'},\n",
       "  2: {'User ID': 2, 'State': 'En Route'},\n",
       "  3: {'User ID': 3, 'State': 'Idle'},\n",
       "  4: {'User ID': 4, 'State': 'En Route'}}}"
      ]
     },
     "execution_count": 6,
     "metadata": {},
     "output_type": "execute_result"
    }
   ],
   "source": [
    "msi = ms.build_implementation(params_base)\n",
    "state, params = msi.prepare_state_and_params(state_base, params_base, state_preperation_functions=[create_driver_map,\n",
    "                                                                                                   create_rider_map,\n",
    "                                                                                                   initialize_event_queue])\n",
    "\n",
    "\n",
    "msi.wiring[\"Request Ride Wiring\"](state, params, [])\n",
    "msi.wiring[\"Request Ride Wiring\"](state, params, [])\n",
    "\n",
    "state"
   ]
  },
  {
   "cell_type": "code",
   "execution_count": null,
   "metadata": {},
   "outputs": [],
   "source": []
  }
 ],
 "metadata": {
  "kernelspec": {
   "display_name": "BlockScience",
   "language": "python",
   "name": "python3"
  },
  "language_info": {
   "codemirror_mode": {
    "name": "ipython",
    "version": 3
   },
   "file_extension": ".py",
   "mimetype": "text/x-python",
   "name": "python",
   "nbconvert_exporter": "python",
   "pygments_lexer": "ipython3",
   "version": "3.9.12"
  }
 },
 "nbformat": 4,
 "nbformat_minor": 2
}
