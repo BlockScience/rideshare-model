{
 "cells": [
  {
   "cell_type": "code",
   "execution_count": 1,
   "metadata": {},
   "outputs": [],
   "source": [
    "import os\n",
    "\n",
    "os.chdir(\"..\")\n",
    "\n",
    "from MSML.src.math_spec_mapping import (load_from_json, create_action_chains_graph, write_out_boundary_actions,\n",
    "                      write_out_policies, write_out_mechanisms, load_svg_graphviz, write_basic_report_full,\n",
    "                      write_action_chain_reports, write_spec_tree, create_parameter_impact_table,\n",
    "                     write_entity_reports, write_wiring_report, write_entity_markdown_report,\n",
    "                     write_all_markdown_reports)\n",
    "\n",
    "os.chdir(\"rideshare-model\")\n",
    "\n",
    "\n",
    "\n",
    "from IPython.display import display\n",
    "from copy import deepcopy\n",
    "from src import math_spec_json\n",
    "\n",
    "ms = load_from_json(deepcopy(math_spec_json))"
   ]
  },
  {
   "cell_type": "code",
   "execution_count": 2,
   "metadata": {},
   "outputs": [],
   "source": [
    "# Event Queue code from https://github.com/BlockScience/rideshare-model/blob/main/experiments/queue/queue.ipynb\n",
    "\n",
    "from src.Implementations.Python.Utils import Event\n",
    "from typing import List\n",
    "import heapq\n",
    "\n",
    "\n",
    "\n",
    "    \n",
    "# Function to initialize the event queue with a list of initial events, can add any # of events here\n",
    "def initialize_event_queue() -> List[Event]:\n",
    "    initial_events = [\n",
    "        Event(t=5, action=\"Request Ride\", spaces=[{\"ride_time\": 6}]),\n",
    "        Event(t=25, action=\"Request Ride\", spaces=[{\"ride_time\": 10}]),\n",
    "        Event(t=10, action=\"Request Ride\", spaces=[{\"ride_time\": 50}])\n",
    "    ]\n",
    "    heapq.heapify(initial_events)\n",
    "    return initial_events\n",
    "\n"
   ]
  },
  {
   "cell_type": "code",
   "execution_count": 9,
   "metadata": {},
   "outputs": [
    {
     "name": "stdout",
     "output_type": "stream",
     "text": [
      "No python implementation for Dummy Policy / Dummy Policy V1. To fix this, go to Implementations/Python/Policies and add Dummy Policy V1\n",
      "No python implementation for Dummy Mechanism. To fix this, go to Implementations/Python/Mechanisms and add Dummy Mechanism\n",
      "No python implementation for dummy_metric. To fix this, go to Implementations/Python/StatefulMetrics and add dummy_metric\n",
      "The following wirings were not loading: ['Dummy Boundary Wiring', 'Dummy Control Wiring', 'Dummy Boundary Wiring 2']\n",
      "[[{'user_id': 4, 'source_location': 'TBD', 'target_location': 'TBD', 'maximum_price': 100, 'maximum_wait_time': 5, 'ride_time': 6, 'current_time': 5, 'quoted_price': 50, 'quoted_pickup_time': 5, 'driver_id': 1}], {'event': Event(t=16, action='Complete Ride', spaces=[{}]), 'time_added': 5}]\n"
     ]
    }
   ],
   "source": [
    "state_base = {\"Riders\": [{\"User ID\": 1,\n",
    "                          \"State\": \"Idle\"},\n",
    "                         {\"User ID\": 2,\n",
    "                          \"State\": \"Idle\"},\n",
    "                         {\"User ID\": 3,\n",
    "                          \"State\": \"Idle\"},\n",
    "                         {\"User ID\": 4,\n",
    "                          \"State\": \"Idle\"},],\n",
    "                \"Drivers\": [{\"Driver ID\": 1,\n",
    "                          \"State\": \"Idle\"},\n",
    "                         {\"Driver ID\": 2,\n",
    "                          \"State\": \"Idle\"},\n",
    "                         {\"Driver ID\": 3,\n",
    "                          \"State\": \"Idle\"},\n",
    "                         {\"Driver ID\": 4,\n",
    "                          \"State\": \"Idle\"},],\n",
    "                \"Ride Request Log\": [],\n",
    "              \"Event Queue\": initialize_event_queue()}\n",
    "params_base = {'FP Dummy Boundary Action 2': \"V2 Dummy Boundary Action 2 Option\",\n",
    "          'dummy_parameter':None,\n",
    "          'dummy_parameter2': None}\n",
    "\n",
    "msi = ms.build_implementation(params_base)\n",
    "state, params = msi.prepare_state_and_params(state_base, params_base)\n",
    "\n",
    "spaces = msi.boundary_actions['Request Ride Boundary Action'](state, params,[])\n",
    "spaces = msi.policies['Ride Pricing Policy'](state, params,spaces)\n",
    "spaces = msi.policies['Ride Confirmation Policy'](state, params,spaces)\n",
    "msi.mechanisms[\"Log Ride Request Mechanism\"](state, params,spaces[:1])\n",
    "msi.mechanisms[\"Add Event Mechanism\"](state, params,spaces[1:2])\n",
    "\n",
    "print(spaces)"
   ]
  },
  {
   "cell_type": "code",
   "execution_count": 10,
   "metadata": {},
   "outputs": [
    {
     "data": {
      "text/plain": [
       "[Event(t=5, action='Request Ride', spaces=[{'ride_time': 6}]),\n",
       " Event(t=16, action='Complete Ride', spaces=[{}]),\n",
       " Event(t=10, action='Request Ride', spaces=[{'ride_time': 50}]),\n",
       " Event(t=25, action='Request Ride', spaces=[{'ride_time': 10}])]"
      ]
     },
     "execution_count": 10,
     "metadata": {},
     "output_type": "execute_result"
    }
   ],
   "source": [
    "state[\"Event Queue\"]"
   ]
  },
  {
   "cell_type": "code",
   "execution_count": 58,
   "metadata": {},
   "outputs": [],
   "source": [
    "heapq.heappush(state[\"Event Queue\"], Event(t=15, action=\"Request Ride\", spaces=[{\"ride_time\": 50}]),)"
   ]
  },
  {
   "cell_type": "code",
   "execution_count": 59,
   "metadata": {},
   "outputs": [
    {
     "data": {
      "text/plain": [
       "[Event(t=5, action='Request Ride', spaces=[{'ride_time': 6}]),\n",
       " Event(t=15, action='Request Ride', spaces=[{'ride_time': 50}]),\n",
       " Event(t=10, action='Request Ride', spaces=[{'ride_time': 50}]),\n",
       " Event(t=25, action='Request Ride', spaces=[{'ride_time': 10}])]"
      ]
     },
     "execution_count": 59,
     "metadata": {},
     "output_type": "execute_result"
    }
   ],
   "source": [
    "\n",
    "state[\"Event Queue\"]"
   ]
  },
  {
   "cell_type": "code",
   "execution_count": 70,
   "metadata": {},
   "outputs": [
    {
     "data": {
      "text/plain": [
       "[Event(t=5, action='Request Ride', spaces=[{'ride_time': 6}]),\n",
       " Event(t=25, action='Request Ride', spaces=[{'ride_time': 10}]),\n",
       " Event(t=10, action='Request Ride', spaces=[{'ride_time': 50}])]"
      ]
     },
     "execution_count": 70,
     "metadata": {},
     "output_type": "execute_result"
    }
   ],
   "source": [
    "initial_events = [\n",
    "        Event(t=5, action=\"Request Ride\", spaces=[{\"ride_time\": 6}]),\n",
    "        Event(t=25, action=\"Request Ride\", spaces=[{\"ride_time\": 10}]),\n",
    "        Event(t=10, action=\"Request Ride\", spaces=[{\"ride_time\": 50}])\n",
    "    ]\n",
    "heapq.heapify(initial_events)\n",
    "initial_events"
   ]
  },
  {
   "cell_type": "code",
   "execution_count": 71,
   "metadata": {},
   "outputs": [
    {
     "data": {
      "text/plain": [
       "[Event(t=5, action='Request Ride', spaces=[{'ride_time': 6}]),\n",
       " Event(t=10, action='Request Ride', spaces=[{'ride_time': 50}]),\n",
       " Event(t=25, action='Request Ride', spaces=[{'ride_time': 10}])]"
      ]
     },
     "execution_count": 71,
     "metadata": {},
     "output_type": "execute_result"
    }
   ],
   "source": [
    "initial_events = sorted(initial_events)\n",
    "initial_events"
   ]
  },
  {
   "cell_type": "code",
   "execution_count": 69,
   "metadata": {},
   "outputs": [
    {
     "data": {
      "text/plain": [
       "[Event(t=5, action='Request Ride', spaces=[{'ride_time': 6}]),\n",
       " Event(t=10, action='Request Ride', spaces=[{'ride_time': 50}]),\n",
       " Event(t=25, action='Request Ride', spaces=[{'ride_time': 10}]),\n",
       " Event(t=15, action='Request Ride', spaces=[{'ride_time': 50}])]"
      ]
     },
     "execution_count": 69,
     "metadata": {},
     "output_type": "execute_result"
    }
   ],
   "source": [
    "heapq.heappush(initial_events, Event(t=15, action=\"Request Ride\", spaces=[{\"ride_time\": 50}]),)\n",
    "initial_events"
   ]
  },
  {
   "cell_type": "code",
   "execution_count": null,
   "metadata": {},
   "outputs": [],
   "source": []
  }
 ],
 "metadata": {
  "kernelspec": {
   "display_name": "BlockScience",
   "language": "python",
   "name": "python3"
  },
  "language_info": {
   "codemirror_mode": {
    "name": "ipython",
    "version": 3
   },
   "file_extension": ".py",
   "mimetype": "text/x-python",
   "name": "python",
   "nbconvert_exporter": "python",
   "pygments_lexer": "ipython3",
   "version": "3.9.12"
  }
 },
 "nbformat": 4,
 "nbformat_minor": 2
}
