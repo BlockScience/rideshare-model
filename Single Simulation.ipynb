{
 "cells": [
  {
   "cell_type": "code",
   "execution_count": 1,
   "metadata": {},
   "outputs": [],
   "source": [
    "import os\n",
    "\n",
    "os.chdir(\"..\")\n",
    "\n",
    "from MSML.src.math_spec_mapping import (load_from_json, create_action_chains_graph, write_out_boundary_actions,\n",
    "                      write_out_policies, write_out_mechanisms, load_svg_graphviz, write_basic_report_full,\n",
    "                      write_action_chain_reports, write_spec_tree, create_parameter_impact_table,\n",
    "                     write_entity_reports, write_wiring_report, write_entity_markdown_report,\n",
    "                     write_all_markdown_reports)\n",
    "\n",
    "os.chdir(\"rideshare-model\")\n",
    "\n",
    "\n",
    "\n",
    "from IPython.display import display\n",
    "from copy import deepcopy\n",
    "from src import math_spec_json\n",
    "from simulation import create_driver_map, create_rider_map, initialize_event_queue, params_base, state_base, experiments_map, post_processing_function\n",
    "\n",
    "ms = load_from_json(deepcopy(math_spec_json))\n",
    "\n",
    "state, params, msi, df, metrics= ms.run_experiment(experiments_map[\"Simple Test\"],\n",
    "                  params_base,\n",
    "                  state_base,\n",
    "                  post_processing_function,\n",
    "                  state_preperation_functions=[create_driver_map, create_rider_map, initialize_event_queue],\n",
    "                  parameter_preperation_functions=[],\n",
    "                  metrics_functions=[])\n",
    "\n"
   ]
  },
  {
   "cell_type": "code",
   "execution_count": 2,
   "metadata": {},
   "outputs": [
    {
     "data": {
      "text/plain": [
       "[Event(t=5, action='Request Ride', spaces=[{'ride_time': 6}]),\n",
       " Event(t=10, action='Request Ride', spaces=[{'ride_time': 50}]),\n",
       " Event(t=16, action='Complete Ride', spaces=[{}]),\n",
       " Event(t=16, action='Complete Ride', spaces=[{}])]"
      ]
     },
     "execution_count": 2,
     "metadata": {},
     "output_type": "execute_result"
    }
   ],
   "source": [
    "state[\"Event Queue\"]"
   ]
  },
  {
   "cell_type": "code",
   "execution_count": null,
   "metadata": {},
   "outputs": [],
   "source": []
  }
 ],
 "metadata": {
  "kernelspec": {
   "display_name": "Aztec",
   "language": "python",
   "name": "python3"
  },
  "language_info": {
   "codemirror_mode": {
    "name": "ipython",
    "version": 3
   },
   "file_extension": ".py",
   "mimetype": "text/x-python",
   "name": "python",
   "nbconvert_exporter": "python",
   "pygments_lexer": "ipython3",
   "version": "3.11.8"
  }
 },
 "nbformat": 4,
 "nbformat_minor": 2
}
