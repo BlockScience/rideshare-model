{
 "cells": [
  {
   "cell_type": "code",
   "execution_count": null,
   "metadata": {},
   "outputs": [],
   "source": [
    "import simpy\n",
    "import random\n",
    "\n",
    "# Parameters\n",
    "NUM_DRIVERS = 10\n",
    "SIM_DURATION = 100\n",
    "RIDER_REQUEST_INTERVAL = 5  # Average time between rider requests\n",
    "SURGE_THRESHOLD = 0.8  # Ratio of drivers to requests that triggers surge pricing\n",
    "BASE_FARE = 2.0\n",
    "PER_MILE_FARE = 1.5\n",
    "\n",
    "# Environment\n",
    "env = simpy.Environment()\n",
    "riders = simpy.Resource(env, capacity=NUM_DRIVERS)\n",
    "\n",
    "# Events\n",
    "def rider_generator(env, riders):\n",
    "    while True:\n",
    "        yield env.timeout(random.expovariate(1.0 / RIDER_REQUEST_INTERVAL))\n",
    "        env.process(rider(env, riders))\n",
    "\n",
    "def rider(env, riders):\n",
    "    with riders.request() as req:\n",
    "        yield req\n",
    "        # Simulate ride duration and distance\n",
    "        ride_duration = random.uniform(5, 15)\n",
    "        distance = random.uniform(1, 10)\n",
    "\n",
    "        # Calculate fare\n",
    "        fare = BASE_FARE + PER_MILE_FARE * distance\n",
    "\n",
    "        # Surge pricing\n",
    "        if riders.count / NUM_DRIVERS < SURGE_THRESHOLD:\n",
    "            fare *= 1.5  # Apply surge multiplier\n",
    "\n",
    "        print(f\"Ride completed. Fare: ${fare:.2f}\")\n",
    "\n",
    "# Simulation\n",
    "for i in range(NUM_DRIVERS):\n",
    "    env.process(rider_generator(env, riders))\n",
    "env.run(until=SIM_DURATION)\n"
   ]
  }
 ],
 "metadata": {
  "language_info": {
   "name": "python"
  }
 },
 "nbformat": 4,
 "nbformat_minor": 2
}
