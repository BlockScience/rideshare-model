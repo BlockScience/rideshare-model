{
 "cells": [
  {
   "cell_type": "code",
   "execution_count": null,
   "metadata": {},
   "outputs": [],
   "source": [
    "from dataclasses import dataclass, field\n",
    "from typing import List, Dict, Any, Callable\n",
    "import heapq\n",
    "\n",
    "@dataclass(order=True)\n",
    "class Event:\n",
    "    t: int  \n",
    "    action: str  \n",
    "    spaces: Dict[str, Any] = field(compare=False)  \n",
    "\n",
    "# Function to initialize the event queue with a list of initial events, can add any # of events here\n",
    "def initialize_event_queue() -> List[Event]:\n",
    "    initial_events = [\n",
    "        Event(t=5, action=\"Request Ride\", spaces={\"ride_time\": 6}),\n",
    "        Event(t=10, action=\"Request Ride\", spaces={\"ride_time\": 50}),\n",
    "        Event(t=25, action=\"Request Ride\", spaces={\"ride_time\": 10}),\n",
    "    ]\n",
    "    heapq.heapify(initial_events)\n",
    "    return initial_events\n",
    "\n",
    "# Custom function to process events from the queue with a rejection criteria\n",
    "def process_events(event_queue: List[Event], reject_criteria: Callable[[Event], bool]):\n",
    "    while event_queue:\n",
    "        current_event = heapq.heappop(event_queue)\n",
    "        print(f\"Processing event: {current_event}\")\n",
    "\n",
    "        if current_event.action == \"Request Ride\":\n",
    "            if reject_criteria(current_event):\n",
    "                print(f\"Ride request at t={current_event.t} rejected.\")\n",
    "                continue\n",
    "\n",
    "            ride_time = current_event.spaces[\"ride_time\"]\n",
    "            complete_ride_event = Event(t=current_event.t + ride_time, action=\"Complete Ride\", spaces={})\n",
    "            heapq.heappush(event_queue, complete_ride_event)\n",
    "            print(f\"Added complete ride event at t={current_event.t + ride_time}\")\n",
    "\n",
    "        elif current_event.action == \"Complete Ride\":\n",
    "            print(\"Ride completed.\")\n",
    "\n",
    "# Example of rejection criteria, can be anything - here is exmample of rejecting if ride_time > 20\n",
    "def reject_if_after_20(event: Event) -> bool:\n",
    "    return event.t > 20\n",
    "\n",
    "# Initialize the event queue\n",
    "event_queue = initialize_event_queue()\n",
    "\n",
    "# Process the events with the custom rejection criteria\n",
    "process_events(event_queue, reject_if_after_20)\n",
    "\n",
    "print(\"The event queue is now empty. Simulation complete!\")\n"
   ]
  }
 ],
 "metadata": {
  "language_info": {
   "name": "python"
  }
 },
 "nbformat": 4,
 "nbformat_minor": 2
}
