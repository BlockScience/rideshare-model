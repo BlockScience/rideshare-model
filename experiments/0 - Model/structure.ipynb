{
 "cells": [
  {
   "cell_type": "code",
   "execution_count": 1,
   "metadata": {},
   "outputs": [],
   "source": [
    "from transitions import Machine\n",
    "import random"
   ]
  },
  {
   "cell_type": "code",
   "execution_count": 2,
   "metadata": {},
   "outputs": [],
   "source": [
    "# Setup state machine for zone\n",
    "class Zone:\n",
    "    def __init__(self, x, y):\n",
    "        self.x = x\n",
    "        self.y = y\n",
    "        self.name = f\"Zone ({x},{y})\""
   ]
  },
  {
   "cell_type": "code",
   "execution_count": 3,
   "metadata": {},
   "outputs": [],
   "source": [
    "# Setup state machine for Rider \n",
    "class Rider:\n",
    "    states = ['waiting', 'matched', 'in_ride', 'ride_completed', 'ride_canceled']\n",
    "\n",
    "    def __init__(self, name, zone):\n",
    "        self.name = name\n",
    "        self.zone = zone\n",
    "        self.estimated_wait_time = 0\n",
    "        self.machine = Machine(model=self, states=Rider.states, initial='waiting')\n",
    "        self.machine.add_transition('match_with_driver', 'waiting', 'matched')\n",
    "        self.machine.add_transition('start_ride', 'matched', 'in_ride')\n",
    "        self.machine.add_transition('complete_ride', 'in_ride', 'ride_completed')\n",
    "        self.machine.add_transition('cancel_ride', '*', 'ride_canceled')\n",
    "\n",
    "    def __str__(self):\n",
    "        return f\"{self.name} (State: {self.state}, Zone: {self.zone.name}, Estimated wait time: {self.estimated_wait_time})\""
   ]
  },
  {
   "cell_type": "code",
   "execution_count": 5,
   "metadata": {},
   "outputs": [],
   "source": [
    "# Setup state machine for Driver\n",
    "class Driver:\n",
    "    states = ['idle', 'en_route', 'waiting_for_rider', 'in_ride', 'ride_completed']\n",
    "\n",
    "    def __init__(self, name, zone):\n",
    "        self.name = name\n",
    "        self.zone = zone\n",
    "        self.time_to_next_zone = 0\n",
    "        self.machine = Machine(model=self, states=Driver.states, initial='idle')\n",
    "        self.machine.add_transition('accept_ride', 'idle', 'en_route')\n",
    "        self.machine.add_transition('arrive_at_pickup', 'en_route', 'waiting_for_rider')\n",
    "        self.machine.add_transition('pick_up_rider', 'waiting_for_rider', 'in_ride')\n",
    "        self.machine.add_transition('complete_ride', 'in_ride', 'ride_completed')\n",
    "        self.machine.add_transition('reset', '*', 'idle')\n",
    "\n",
    "    def __str__(self):\n",
    "        return f\"{self.name} (State: {self.state}, Zone: {self.zone.name}, Time to next zone: {self.time_to_next_zone})\""
   ]
  },
  {
   "cell_type": "code",
   "execution_count": 6,
   "metadata": {},
   "outputs": [],
   "source": [
    "# Setup state machine for RideRequest\n",
    "class RideRequest:\n",
    "    states = ['requested', 'accepted', 'in_progress', 'completed', 'canceled']\n",
    "\n",
    "    def __init__(self, origin_zone, destination_zone):\n",
    "        self.origin_zone = origin_zone\n",
    "        self.destination_zone = destination_zone\n",
    "        self.machine = Machine(model=self, states=RideRequest.states, initial='requested')\n",
    "        self.machine.add_transition('accept', 'requested', 'accepted')\n",
    "        self.machine.add_transition('start', 'accepted', 'in_progress')\n",
    "        self.machine.add_transition('complete', 'in_progress', 'completed')\n",
    "        self.machine.add_transition('cancel', '*', 'canceled')"
   ]
  },
  {
   "cell_type": "code",
   "execution_count": 8,
   "metadata": {},
   "outputs": [],
   "source": [
    "# Create the 10x10 grid of zones\n",
    "zones = {(x, y): Zone(x, y) for x in range(1, 11) for y in range(1, 11)}\n",
    "# Setup instances of each class\n",
    "riders = [Rider(f'Rider {i}', random.choice(list(zones.values()))) for i in range(5)]\n",
    "drivers = [Driver(f'Driver {i}', random.choice(list(zones.values()))) for i in range(3)]\n",
    "ride_requests = [RideRequest(random.choice(list(zones.values())), random.choice(list(zones.values()))) for i in range(5)]"
   ]
  },
  {
   "cell_type": "code",
   "execution_count": 9,
   "metadata": {},
   "outputs": [],
   "source": [
    "# Define a function to calculate Manhattan distance\n",
    "def calculate_travel_time(zone1, zone2):\n",
    "    return abs(zone1[0] - zone2[0]) + abs(zone1[1] - zone2[1])\n",
    "\n",
    "# Function to find the nearest available driver\n",
    "def find_nearest_driver(rider_zone):\n",
    "    nearest_driver = None\n",
    "    min_travel_time = float('inf')\n",
    "    for driver in drivers:\n",
    "        if driver.state == 'idle':\n",
    "            travel_time = calculate_travel_time((driver.zone.x, driver.zone.y), (rider_zone.x, rider_zone.y))\n",
    "            if travel_time < min_travel_time:\n",
    "                min_travel_time = travel_time\n",
    "                nearest_driver = driver\n",
    "    return nearest_driver, min_travel_time"
   ]
  },
  {
   "cell_type": "code",
   "execution_count": 10,
   "metadata": {},
   "outputs": [],
   "source": [
    "# Run simulation\n",
    "def simulate_rideshare():\n",
    "    time_unit = 0\n",
    "    while any(rider.state != 'ride_completed' for rider in riders):\n",
    "        print(f\"\\nTime Unit: {time_unit}\")\n",
    "\n",
    "        for rider in riders:\n",
    "            if rider.state == 'waiting':\n",
    "                # Find the nearest driver\n",
    "                nearest_driver, travel_time = find_nearest_driver(rider.zone)\n",
    "                if nearest_driver:\n",
    "                    print(f\"{nearest_driver.name} will pick up {rider.name} from {rider.zone.name}. Travel time: {travel_time}\")\n",
    "                    nearest_driver.accept_ride()\n",
    "                    nearest_driver.time_to_next_zone = travel_time\n",
    "                    nearest_driver.zone = rider.zone\n",
    "                    nearest_driver.current_rider = rider\n",
    "                    nearest_driver.current_request = ride_requests[riders.index(rider)]\n",
    "                    nearest_driver.arrive_at_pickup()\n",
    "                    ride_requests[riders.index(rider)].accept()\n",
    "                    rider.match_with_driver()\n",
    "                else:\n",
    "                    rider.estimated_wait_time = travel_time\n",
    "                    print(f\"No driver available for {rider.name}. Estimated wait time: {travel_time} units.\")\n",
    "\n",
    "        for driver in drivers:\n",
    "            if driver.time_to_next_zone > 0:\n",
    "                driver.time_to_next_zone -= 1\n",
    "            elif driver.state == 'waiting_for_rider' and driver.current_rider:\n",
    "                driver.pick_up_rider()\n",
    "                driver.current_request.start()\n",
    "                driver.current_rider.start_ride()\n",
    "            elif driver.state == 'in_ride' and driver.current_rider:\n",
    "                driver.complete_ride()\n",
    "                driver.current_request.complete()\n",
    "                driver.current_rider.complete_ride()\n",
    "                driver.current_rider = None\n",
    "                driver.current_request = None\n",
    "                driver.reset()\n",
    "\n",
    "        # Print the states of all riders and drivers\n",
    "        for rider in riders:\n",
    "            print(rider)\n",
    "        for driver in drivers:\n",
    "            print(driver)\n",
    "\n",
    "        time_unit += 1"
   ]
  },
  {
   "cell_type": "code",
   "execution_count": 11,
   "metadata": {},
   "outputs": [
    {
     "name": "stdout",
     "output_type": "stream",
     "text": [
      "\n",
      "Time Unit: 0\n",
      "Driver 0 will pick up Rider 0 from Zone (10,4). Travel time: 3\n",
      "Driver 2 will pick up Rider 1 from Zone (9,8). Travel time: 5\n",
      "Driver 1 will pick up Rider 2 from Zone (7,3). Travel time: 2\n",
      "No driver available for Rider 3. Estimated wait time: inf units.\n",
      "No driver available for Rider 4. Estimated wait time: inf units.\n",
      "Rider 0 (State: matched, Zone: Zone (10,4), Estimated wait time: 0)\n",
      "Rider 1 (State: matched, Zone: Zone (9,8), Estimated wait time: 0)\n",
      "Rider 2 (State: matched, Zone: Zone (7,3), Estimated wait time: 0)\n",
      "Rider 3 (State: waiting, Zone: Zone (1,9), Estimated wait time: inf)\n",
      "Rider 4 (State: waiting, Zone: Zone (8,9), Estimated wait time: inf)\n",
      "Driver 0 (State: in_ride, Zone: Zone (10,4), Time to next zone: 2)\n",
      "Driver 1 (State: in_ride, Zone: Zone (7,3), Time to next zone: 1)\n",
      "Driver 2 (State: in_ride, Zone: Zone (9,8), Time to next zone: 4)\n",
      "\n",
      "Time Unit: 1\n",
      "No driver available for Rider 3. Estimated wait time: inf units.\n",
      "No driver available for Rider 4. Estimated wait time: inf units.\n",
      "Rider 0 (State: matched, Zone: Zone (10,4), Estimated wait time: 0)\n",
      "Rider 1 (State: matched, Zone: Zone (9,8), Estimated wait time: 0)\n",
      "Rider 2 (State: matched, Zone: Zone (7,3), Estimated wait time: 0)\n",
      "Rider 3 (State: waiting, Zone: Zone (1,9), Estimated wait time: inf)\n",
      "Rider 4 (State: waiting, Zone: Zone (8,9), Estimated wait time: inf)\n",
      "Driver 0 (State: in_ride, Zone: Zone (10,4), Time to next zone: 1)\n",
      "Driver 1 (State: in_ride, Zone: Zone (7,3), Time to next zone: 0)\n",
      "Driver 2 (State: in_ride, Zone: Zone (9,8), Time to next zone: 3)\n",
      "\n",
      "Time Unit: 2\n",
      "No driver available for Rider 3. Estimated wait time: inf units.\n",
      "No driver available for Rider 4. Estimated wait time: inf units.\n"
     ]
    },
    {
     "ename": "MachineError",
     "evalue": "\"Can't trigger event complete from state accepted!\"",
     "output_type": "error",
     "traceback": [
      "\u001b[0;31m---------------------------------------------------------------------------\u001b[0m",
      "\u001b[0;31mMachineError\u001b[0m                              Traceback (most recent call last)",
      "Cell \u001b[0;32mIn[11], line 1\u001b[0m\n\u001b[0;32m----> 1\u001b[0m \u001b[43msimulate_rideshare\u001b[49m\u001b[43m(\u001b[49m\u001b[43m)\u001b[49m\n",
      "Cell \u001b[0;32mIn[10], line 31\u001b[0m, in \u001b[0;36msimulate_rideshare\u001b[0;34m()\u001b[0m\n\u001b[1;32m     29\u001b[0m \u001b[38;5;28;01melif\u001b[39;00m driver\u001b[38;5;241m.\u001b[39mstate \u001b[38;5;241m==\u001b[39m \u001b[38;5;124m'\u001b[39m\u001b[38;5;124min_ride\u001b[39m\u001b[38;5;124m'\u001b[39m:\n\u001b[1;32m     30\u001b[0m     driver\u001b[38;5;241m.\u001b[39mcomplete_ride()\n\u001b[0;32m---> 31\u001b[0m     \u001b[43mride_requests\u001b[49m\u001b[43m[\u001b[49m\u001b[43mdrivers\u001b[49m\u001b[38;5;241;43m.\u001b[39;49m\u001b[43mindex\u001b[49m\u001b[43m(\u001b[49m\u001b[43mdriver\u001b[49m\u001b[43m)\u001b[49m\u001b[43m]\u001b[49m\u001b[38;5;241;43m.\u001b[39;49m\u001b[43mcomplete\u001b[49m\u001b[43m(\u001b[49m\u001b[43m)\u001b[49m\n\u001b[1;32m     32\u001b[0m     riders[drivers\u001b[38;5;241m.\u001b[39mindex(driver)]\u001b[38;5;241m.\u001b[39mcomplete_ride()\n\u001b[1;32m     33\u001b[0m     driver\u001b[38;5;241m.\u001b[39mreset()\n",
      "File \u001b[0;32m~/Documents/GitHub/block.science/rideshare/venv/lib/python3.12/site-packages/transitions/core.py:406\u001b[0m, in \u001b[0;36mEvent.trigger\u001b[0;34m(self, model, *args, **kwargs)\u001b[0m\n\u001b[1;32m    401\u001b[0m func \u001b[38;5;241m=\u001b[39m partial(\u001b[38;5;28mself\u001b[39m\u001b[38;5;241m.\u001b[39m_trigger, EventData(\u001b[38;5;28;01mNone\u001b[39;00m, \u001b[38;5;28mself\u001b[39m, \u001b[38;5;28mself\u001b[39m\u001b[38;5;241m.\u001b[39mmachine, model, args\u001b[38;5;241m=\u001b[39margs, kwargs\u001b[38;5;241m=\u001b[39mkwargs))\n\u001b[1;32m    402\u001b[0m \u001b[38;5;66;03m# pylint: disable=protected-access\u001b[39;00m\n\u001b[1;32m    403\u001b[0m \u001b[38;5;66;03m# noinspection PyProtectedMember\u001b[39;00m\n\u001b[1;32m    404\u001b[0m \u001b[38;5;66;03m# Machine._process should not be called somewhere else. That's why it should not be exposed\u001b[39;00m\n\u001b[1;32m    405\u001b[0m \u001b[38;5;66;03m# to Machine users.\u001b[39;00m\n\u001b[0;32m--> 406\u001b[0m \u001b[38;5;28;01mreturn\u001b[39;00m \u001b[38;5;28;43mself\u001b[39;49m\u001b[38;5;241;43m.\u001b[39;49m\u001b[43mmachine\u001b[49m\u001b[38;5;241;43m.\u001b[39;49m\u001b[43m_process\u001b[49m\u001b[43m(\u001b[49m\u001b[43mfunc\u001b[49m\u001b[43m)\u001b[49m\n",
      "File \u001b[0;32m~/Documents/GitHub/block.science/rideshare/venv/lib/python3.12/site-packages/transitions/core.py:1236\u001b[0m, in \u001b[0;36mMachine._process\u001b[0;34m(self, trigger)\u001b[0m\n\u001b[1;32m   1233\u001b[0m \u001b[38;5;28;01mif\u001b[39;00m \u001b[38;5;129;01mnot\u001b[39;00m \u001b[38;5;28mself\u001b[39m\u001b[38;5;241m.\u001b[39mhas_queue:\n\u001b[1;32m   1234\u001b[0m     \u001b[38;5;28;01mif\u001b[39;00m \u001b[38;5;129;01mnot\u001b[39;00m \u001b[38;5;28mself\u001b[39m\u001b[38;5;241m.\u001b[39m_transition_queue:\n\u001b[1;32m   1235\u001b[0m         \u001b[38;5;66;03m# if trigger raises an Error, it has to be handled by the Machine.process caller\u001b[39;00m\n\u001b[0;32m-> 1236\u001b[0m         \u001b[38;5;28;01mreturn\u001b[39;00m \u001b[43mtrigger\u001b[49m\u001b[43m(\u001b[49m\u001b[43m)\u001b[49m\n\u001b[1;32m   1237\u001b[0m     \u001b[38;5;28;01mraise\u001b[39;00m MachineError(\u001b[38;5;124m\"\u001b[39m\u001b[38;5;124mAttempt to process events synchronously while transition queue is not empty!\u001b[39m\u001b[38;5;124m\"\u001b[39m)\n\u001b[1;32m   1239\u001b[0m \u001b[38;5;66;03m# process queued events\u001b[39;00m\n",
      "File \u001b[0;32m~/Documents/GitHub/block.science/rideshare/venv/lib/python3.12/site-packages/transitions/core.py:419\u001b[0m, in \u001b[0;36mEvent._trigger\u001b[0;34m(self, event_data)\u001b[0m\n\u001b[1;32m    417\u001b[0m event_data\u001b[38;5;241m.\u001b[39mstate \u001b[38;5;241m=\u001b[39m \u001b[38;5;28mself\u001b[39m\u001b[38;5;241m.\u001b[39mmachine\u001b[38;5;241m.\u001b[39mget_model_state(event_data\u001b[38;5;241m.\u001b[39mmodel)\n\u001b[1;32m    418\u001b[0m \u001b[38;5;28;01mtry\u001b[39;00m:\n\u001b[0;32m--> 419\u001b[0m     \u001b[38;5;28;01mif\u001b[39;00m \u001b[38;5;28;43mself\u001b[39;49m\u001b[38;5;241;43m.\u001b[39;49m\u001b[43m_is_valid_source\u001b[49m\u001b[43m(\u001b[49m\u001b[43mevent_data\u001b[49m\u001b[38;5;241;43m.\u001b[39;49m\u001b[43mstate\u001b[49m\u001b[43m)\u001b[49m:\n\u001b[1;32m    420\u001b[0m         \u001b[38;5;28mself\u001b[39m\u001b[38;5;241m.\u001b[39m_process(event_data)\n\u001b[1;32m    421\u001b[0m \u001b[38;5;28;01mexcept\u001b[39;00m \u001b[38;5;167;01mBaseException\u001b[39;00m \u001b[38;5;28;01mas\u001b[39;00m err:  \u001b[38;5;66;03m# pylint: disable=broad-except; Exception will be handled elsewhere\u001b[39;00m\n",
      "File \u001b[0;32m~/Documents/GitHub/block.science/rideshare/venv/lib/python3.12/site-packages/transitions/core.py:456\u001b[0m, in \u001b[0;36mEvent._is_valid_source\u001b[0;34m(self, state)\u001b[0m\n\u001b[1;32m    454\u001b[0m         _LOGGER\u001b[38;5;241m.\u001b[39mwarning(msg)\n\u001b[1;32m    455\u001b[0m         \u001b[38;5;28;01mreturn\u001b[39;00m \u001b[38;5;28;01mFalse\u001b[39;00m\n\u001b[0;32m--> 456\u001b[0m     \u001b[38;5;28;01mraise\u001b[39;00m MachineError(msg)\n\u001b[1;32m    457\u001b[0m \u001b[38;5;28;01mreturn\u001b[39;00m \u001b[38;5;28;01mTrue\u001b[39;00m\n",
      "\u001b[0;31mMachineError\u001b[0m: \"Can't trigger event complete from state accepted!\""
     ]
    }
   ],
   "source": [
    "simulate_rideshare()"
   ]
  }
 ],
 "metadata": {
  "kernelspec": {
   "display_name": "venv",
   "language": "python",
   "name": "python3"
  },
  "language_info": {
   "codemirror_mode": {
    "name": "ipython",
    "version": 3
   },
   "file_extension": ".py",
   "mimetype": "text/x-python",
   "name": "python",
   "nbconvert_exporter": "python",
   "pygments_lexer": "ipython3",
   "version": "3.12.2"
  }
 },
 "nbformat": 4,
 "nbformat_minor": 2
}
