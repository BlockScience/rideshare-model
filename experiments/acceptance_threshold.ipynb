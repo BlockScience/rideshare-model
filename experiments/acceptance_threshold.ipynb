{
 "cells": [
  {
   "cell_type": "markdown",
   "metadata": {},
   "source": [
    "### Rideshare Simulation\n",
    "The simulation models the interaction between riders, drivers, and ride requests within a grid-based zone system.\n",
    "\n",
    "The rideshare simulation consists of three main classes: `Zone`, `Driver`, `Rider`, and `RideRequest`. These classes work together to simulate the rideshare system."
   ]
  },
  {
   "cell_type": "code",
   "execution_count": 1,
   "metadata": {},
   "outputs": [],
   "source": [
    "import random\n",
    "import pprint\n",
    "from datetime import datetime, timedelta\n",
    "from transitions import Machine"
   ]
  },
  {
   "cell_type": "markdown",
   "metadata": {},
   "source": [
    "\n",
    "The `Zone` class represents a geographical area within the grid system. Each zone has a unique identifier based on its x and y coordinates."
   ]
  },
  {
   "cell_type": "code",
   "execution_count": 2,
   "metadata": {},
   "outputs": [],
   "source": [
    "# Define the Zone class\n",
    "class Zone:\n",
    "    def __init__(self, x, y):\n",
    "        self.x = x\n",
    "        self.y = y\n",
    "        self.name = f\"Zone ({x},{y})\""
   ]
  },
  {
   "cell_type": "markdown",
   "metadata": {},
   "source": [
    "\n",
    "The `Driver` class represents a driver in the rideshare system. Each driver is associated with a specific `Zone` and has preferences for accepting ride requests. The driver's state is managed by a state machine, which transitions between different states such as 'idle', 'en_route', 'waiting_for_rider', 'in_ride', and 'ride_completed'."
   ]
  },
  {
   "cell_type": "code",
   "execution_count": 3,
   "metadata": {},
   "outputs": [],
   "source": [
    "# Define the Driver class with state machine\n",
    "class Driver:\n",
    "    states = ['idle', 'en_route', 'waiting_for_rider', 'in_ride', 'ride_completed']\n",
    "\n",
    "    def __init__(self, name, zone, preferences):\n",
    "        self.name = name\n",
    "        self.zone = zone\n",
    "        self.preferences = preferences  # Driver's preferences for ride attributes\n",
    "        self.time_to_next_zone = 0\n",
    "        self.current_rider = None\n",
    "        self.current_request = None\n",
    "        self.machine = Machine(model=self, states=Driver.states, initial='idle')\n",
    "        self.machine.add_transition('accept_ride', 'idle', 'en_route')\n",
    "        self.machine.add_transition('arrive_at_pickup', 'en_route', 'waiting_for_rider')\n",
    "        self.machine.add_transition('pick_up_rider', 'waiting_for_rider', 'in_ride')\n",
    "        self.machine.add_transition('complete_ride', 'in_ride', 'ride_completed')\n",
    "        self.machine.add_transition('reset', '*', 'idle')\n",
    "\n",
    "    # Calculate acceptance threshold based on ride metadata and driver preferences\n",
    "    def calculate_acceptance_threshold(self, ride_metadata):\n",
    "        threshold = (\n",
    "            ride_metadata['cost_usd'] * self.preferences['cost_weight'] +\n",
    "            ride_metadata['distance_km'] * self.preferences['distance_weight'] +\n",
    "            ride_metadata['duration_min'] * self.preferences['duration_weight'] +\n",
    "            ride_metadata['driver_rating'] * self.preferences['driver_rating_weight'] +\n",
    "            ride_metadata['rider_rating'] * self.preferences['rider_rating_weight']\n",
    "        )\n",
    "        return threshold\n",
    "\n",
    "    # Determine if the driver accepts the ride based on the calculated threshold\n",
    "    def will_accept_ride(self, ride_metadata):\n",
    "        acceptance_threshold = self.calculate_acceptance_threshold(ride_metadata)\n",
    "        print(\"Acceptance threshold:\", acceptance_threshold)\n",
    "        print(\"Self threshold:\", self.preferences['acceptance_threshold'])\n",
    "        return acceptance_threshold >= self.preferences['acceptance_threshold']\n",
    "\n",
    "    def __str__(self):\n",
    "        return f\"{self.name} (State: {self.state}, Zone: {self.zone.name}, Time to next zone: {self.time_to_next_zone})\"\n"
   ]
  },
  {
   "cell_type": "markdown",
   "metadata": {},
   "source": [
    "\n",
    "The `Rider` class represents a rider in the rideshare system. Each rider is also associated with a specific `Zone` and has an estimated wait time for being matched with a driver. The rider's state is managed by a state machine, which transitions between states like 'waiting', 'matched', 'in_ride', 'ride_completed', and 'ride_canceled'.\n"
   ]
  },
  {
   "cell_type": "code",
   "execution_count": 4,
   "metadata": {},
   "outputs": [],
   "source": [
    "# Define the Rider class with state machine\n",
    "class Rider:\n",
    "    states = ['waiting', 'matched', 'in_ride', 'ride_completed', 'ride_canceled']\n",
    "\n",
    "    def __init__(self, name, zone):\n",
    "        self.name = name\n",
    "        self.zone = zone\n",
    "        self.estimated_wait_time = 0\n",
    "        self.machine = Machine(model=self, states=Rider.states, initial='waiting')\n",
    "        self.machine.add_transition('match_with_driver', 'waiting', 'matched')\n",
    "        self.machine.add_transition('start_ride', 'matched', 'in_ride')\n",
    "        self.machine.add_transition('complete_ride', 'in_ride', 'ride_completed')\n",
    "        self.machine.add_transition('cancel_ride', '*', 'ride_canceled')\n",
    "\n",
    "    def __str__(self):\n",
    "        return f\"{self.name} (State: {self.state}, Zone: {self.zone.name}, Estimated wait time: {self.estimated_wait_time})\"\n"
   ]
  },
  {
   "cell_type": "markdown",
   "metadata": {},
   "source": [
    "\n",
    "The `RideRequest` class represents a ride request made by a rider. It connects a `Rider` with a `Driver` and includes information about the origin `Zone`, destination `Zone`, and the `Zone` of the driver at the time of the request. The ride request also contains metadata such as distance, duration, cost, ratings, ride type, traffic conditions, and weather conditions. The state of the ride request is managed by a state machine, transitioning between states like 'requested', 'accepted', 'in_progress', 'completed', and 'canceled'.\n"
   ]
  },
  {
   "cell_type": "code",
   "execution_count": 5,
   "metadata": {},
   "outputs": [],
   "source": [
    "# Define the RideRequest class with state machine\n",
    "class RideRequest:\n",
    "    states = ['requested', 'accepted', 'in_progress', 'completed', 'canceled']\n",
    "\n",
    "    def __init__(self, rider, origin_zone, destination_zone, driver_zone):\n",
    "        self.rider = rider\n",
    "        self.origin_zone = origin_zone\n",
    "        self.destination_zone = destination_zone\n",
    "        self.driver_zone = driver_zone\n",
    "        self.metadata = self.generate_metadata()\n",
    "        self.machine = Machine(model=self, states=RideRequest.states, initial='requested')\n",
    "        self.machine.add_transition('accept', 'requested', 'accepted')\n",
    "        self.machine.add_transition('start', 'accepted', 'in_progress')\n",
    "        self.machine.add_transition('complete', 'in_progress', 'completed')\n",
    "        self.machine.add_transition('cancel', '*', 'canceled')\n",
    "\n",
    "    # Generate metadata for the ride request\n",
    "    def generate_metadata(self):\n",
    "        driver_to_pickup = calculate_travel_time((self.driver_zone.x, self.driver_zone.y), (self.origin_zone.x, self.origin_zone.y))\n",
    "        pickup_to_destination = calculate_travel_time((self.origin_zone.x, self.origin_zone.y), (self.destination_zone.x, self.destination_zone.y))\n",
    "        total_distance = driver_to_pickup + pickup_to_destination\n",
    "        duration = total_distance  # 1 unit per zone\n",
    "        cost = total_distance * 2.5  # Cost is based on the total distance with a multiplier\n",
    "        return {\n",
    "            \"distance_km\": total_distance,\n",
    "            \"duration_min\": duration,\n",
    "            \"pickup_time\": None,\n",
    "            \"dropoff_time\": None,\n",
    "            \"cost_usd\": round(cost, 2),\n",
    "            \"driver_rating\": round(random.uniform(4.0, 5.0), 2),\n",
    "            \"rider_rating\": round(random.uniform(4.0, 5.0), 2),\n",
    "            \"ride_type\": random.choice([\"economy\", \"premium\", \"pool\"]),\n",
    "            \"traffic_conditions\": random.choice([\"normal\", \"heavy\", \"light\"]),\n",
    "            \"weather_conditions\": random.choice([\"clear\", \"rainy\", \"stormy\", \"snowy\"]),\n",
    "        }\n",
    "\n",
    "    def __str__(self):\n",
    "        return f\"RideRequest for {self.rider.name} (\\nOrigin: {self.origin_zone.name}, \\nDestination: {self.destination_zone.name}, \\nState: {self.state}, \\nMetadata: {self.metadata})\"\n"
   ]
  },
  {
   "cell_type": "markdown",
   "metadata": {},
   "source": [
    "\n",
    "The simulation workflow involves the interaction between these classes. When a `Rider` makes a `RideRequest`, the system searches for an available `Driver` in the nearby `Zones`. The `Driver`'s acceptance of the ride request is determined by their preferences and the ride request metadata. If a `Driver` accepts the request, the states of the `Rider`, `Driver`, and `RideRequest` transition accordingly, simulating the progress of the ride from the origin `Zone` to the destination `Zone`.\n",
    "\n",
    "The `Zone` class serves as a geographical context for the `Driver`s, `Rider`s, and `RideRequest`s, enabling the calculation of distances, travel times, and other location-based metrics.\n",
    "\n",
    "Overall, the `Driver`, `Rider`, and `RideRequest` classes work together to simulate the rideshare system, with the `Zone` class providing the geographical context for their interactions.\n"
   ]
  },
  {
   "cell_type": "code",
   "execution_count": 6,
   "metadata": {},
   "outputs": [],
   "source": [
    "# Function to calculate Manhattan distance\n",
    "def calculate_travel_time(zone1, zone2):\n",
    "    return abs(zone1[0] - zone2[0]) + abs(zone1[1] - zone2[1])\n",
    "\n",
    "# Function to find the nearest available driver who accepts the ride based on their preferences\n",
    "def find_nearest_driver(rider_zone, ride_metadata):\n",
    "    sorted_drivers = sorted(drivers, key=lambda d: calculate_travel_time((d.zone.x, d.zone.y), (rider_zone.x, rider_zone.y)))\n",
    "    for driver in sorted_drivers:\n",
    "        will_accept = driver.will_accept_ride(ride_metadata)\n",
    "        print(\"Will accept:\", will_accept)\n",
    "        if driver.state == 'idle' and will_accept:\n",
    "            return driver, calculate_travel_time((driver.zone.x, driver.zone.y), (rider_zone.x, rider_zone.y))\n",
    "    return None, None"
   ]
  },
  {
   "cell_type": "markdown",
   "metadata": {},
   "source": [
    "Here's a simulation workflow:"
   ]
  },
  {
   "cell_type": "code",
   "execution_count": 7,
   "metadata": {},
   "outputs": [],
   "source": [
    "# Initialize the simulation\n",
    "\n",
    "# Create the 10x10 grid of zones\n",
    "zones = {(x, y): Zone(x, y) for x in range(1, 11) for y in range(1, 11)}\n",
    "\n",
    "# Initialize 1 rider and 1 driver with specific zones and preferences / weights\n",
    "rider_zone = zones[(2, 7)]\n",
    "driver_zone = zones[(5, 5)]\n",
    "destination_zone = zones[(5, 7)]\n",
    "driver_preferences = {\n",
    "    \"cost_weight\": 0.4, \n",
    "    \"distance_weight\": 0.1, \n",
    "    \"duration_weight\": 0.1, \n",
    "    \"driver_rating_weight\": 0.2, \n",
    "    \"rider_rating_weight\": 0.2, \n",
    "    \"acceptance_threshold\": 20\n",
    "},\n",
    "\n",
    "# Initialize 1 rider and 1 driver with specific zones and preferences\n",
    "riders = [Rider('Rider 0', rider_zone)]\n",
    "drivers = [Driver('Driver 0', driver_zone, driver_preferences[0])]\n",
    "ride_request = RideRequest(riders[0], rider_zone, destination_zone, driver_zone)\n",
    "ride_requests = [ride_request]"
   ]
  },
  {
   "cell_type": "code",
   "execution_count": 8,
   "metadata": {},
   "outputs": [],
   "source": [
    "# Simulation workflow\n",
    "def simulate_rideshare(price_increment=5):\n",
    "    time_unit = 0\n",
    "\n",
    "    while any(rider.state != 'ride_completed' for rider in riders):\n",
    "        print(f\"\\nTime Unit: {time_unit}\")\n",
    "\n",
    "        for rider in riders:\n",
    "            if rider.state == 'waiting':\n",
    "                ride_request = next((request for request in ride_requests if request.rider == rider), None)\n",
    "                if ride_request:\n",
    "                    current_cost = ride_request.metadata[\"cost_usd\"]\n",
    "                    driver, travel_time = find_nearest_driver(rider.zone, ride_request.metadata)\n",
    "                    while not driver:\n",
    "                        current_cost += price_increment\n",
    "                        ride_request.metadata[\"cost_usd\"] = current_cost\n",
    "                        driver, travel_time = find_nearest_driver(rider.zone, ride_request.metadata)\n",
    "\n",
    "                    if driver:\n",
    "                        print(f\"{driver.name} will pick up {rider.name} from {rider.zone.name}. Travel time: {travel_time}\")\n",
    "                        driver.zone = rider.zone\n",
    "                        driver.time_to_next_zone = travel_time\n",
    "                        driver.current_rider = rider\n",
    "                        driver.current_request = ride_request\n",
    "                        driver.accept_ride()  # This should trigger the transition to 'en_route'\n",
    "                        driver.current_request.metadata[\"pickup_time\"] = datetime.now() + timedelta(minutes=time_unit)\n",
    "                        driver.current_request.accept()\n",
    "                        rider.match_with_driver()\n",
    "                        rider.estimated_wait_time = travel_time\n",
    "\n",
    "        for driver in drivers:\n",
    "            print(\"Driver State:\", driver)\n",
    "            if driver.time_to_next_zone > 0:\n",
    "                driver.time_to_next_zone -= 1\n",
    "                print(f\"{driver.name} is traveling. Time to next zone: {driver.time_to_next_zone}\")\n",
    "            elif driver.time_to_next_zone == 0:\n",
    "                if driver.is_en_route():\n",
    "                    driver.arrive_at_pickup()\n",
    "                    driver.zone = driver.current_rider.zone\n",
    "                    print(f\"{driver.name} has arrived at the pickup zone for {driver.current_rider.name}.\")\n",
    "                elif driver.is_waiting_for_rider():\n",
    "                    driver.pick_up_rider()\n",
    "                    driver.current_request.start()\n",
    "                    driver.current_rider.start_ride()\n",
    "                    driver.time_to_next_zone = calculate_travel_time((driver.zone.x, driver.zone.y), (driver.current_request.destination_zone.x, driver.current_request.destination_zone.y))\n",
    "                    print(f\"{driver.name} picked up {driver.current_rider.name} and is now in ride.\")\n",
    "                elif driver.is_in_ride():\n",
    "                    if driver.time_to_next_zone == 0:\n",
    "                        driver.complete_ride()\n",
    "                        driver.current_request.metadata[\"dropoff_time\"] = datetime.now() + timedelta(minutes=time_unit)\n",
    "                        driver.current_request.complete()\n",
    "                        driver.current_rider.complete_ride()\n",
    "                        print(f\"{driver.name} completed the ride with {driver.current_rider.name}.\")\n",
    "                        driver.current_rider = None\n",
    "                        driver.current_request = None\n",
    "                        driver.reset()\n",
    "                        print(f\"{driver.name} is now idle.\")\n",
    "        time_unit += 1"
   ]
  },
  {
   "cell_type": "code",
   "execution_count": 9,
   "metadata": {},
   "outputs": [
    {
     "name": "stdout",
     "output_type": "stream",
     "text": [
      "Rider 0 (State: waiting, Zone: Zone (2,7), Estimated wait time: 0)\n",
      "Driver 0 (State: idle, Zone: Zone (5,5), Time to next zone: 0)\n",
      "RideRequest for Rider 0 (\n",
      "Origin: Zone (2,7), \n",
      "Destination: Zone (5,7), \n",
      "State: requested, \n",
      "Metadata: {'distance_km': 8, 'duration_min': 8, 'pickup_time': None, 'dropoff_time': None, 'cost_usd': 20.0, 'driver_rating': 4.68, 'rider_rating': 4.95, 'ride_type': 'pool', 'traffic_conditions': 'heavy', 'weather_conditions': 'clear'})\n"
     ]
    }
   ],
   "source": [
    "# Show the initial state of rides / drivers\n",
    "for rider in riders:\n",
    "    print(rider)\n",
    "for driver in drivers:\n",
    "    print(driver)\n",
    "for request in ride_requests:\n",
    "    print(request)"
   ]
  },
  {
   "cell_type": "code",
   "execution_count": 10,
   "metadata": {},
   "outputs": [
    {
     "name": "stdout",
     "output_type": "stream",
     "text": [
      "\n",
      "Time Unit: 0\n",
      "Acceptance threshold: 11.526000000000002\n",
      "Self threshold: 20\n",
      "Will accept: False\n",
      "Acceptance threshold: 13.526000000000002\n",
      "Self threshold: 20\n",
      "Will accept: False\n",
      "Acceptance threshold: 15.526000000000002\n",
      "Self threshold: 20\n",
      "Will accept: False\n",
      "Acceptance threshold: 17.526\n",
      "Self threshold: 20\n",
      "Will accept: False\n",
      "Acceptance threshold: 19.526\n",
      "Self threshold: 20\n",
      "Will accept: False\n",
      "Acceptance threshold: 21.526\n",
      "Self threshold: 20\n",
      "Will accept: True\n",
      "Driver 0 will pick up Rider 0 from Zone (2,7). Travel time: 5\n",
      "Driver State: Driver 0 (State: en_route, Zone: Zone (2,7), Time to next zone: 5)\n",
      "Driver 0 is traveling. Time to next zone: 4\n",
      "\n",
      "Time Unit: 1\n",
      "Driver State: Driver 0 (State: en_route, Zone: Zone (2,7), Time to next zone: 4)\n",
      "Driver 0 is traveling. Time to next zone: 3\n",
      "\n",
      "Time Unit: 2\n",
      "Driver State: Driver 0 (State: en_route, Zone: Zone (2,7), Time to next zone: 3)\n",
      "Driver 0 is traveling. Time to next zone: 2\n",
      "\n",
      "Time Unit: 3\n",
      "Driver State: Driver 0 (State: en_route, Zone: Zone (2,7), Time to next zone: 2)\n",
      "Driver 0 is traveling. Time to next zone: 1\n",
      "\n",
      "Time Unit: 4\n",
      "Driver State: Driver 0 (State: en_route, Zone: Zone (2,7), Time to next zone: 1)\n",
      "Driver 0 is traveling. Time to next zone: 0\n",
      "\n",
      "Time Unit: 5\n",
      "Driver State: Driver 0 (State: en_route, Zone: Zone (2,7), Time to next zone: 0)\n",
      "Driver 0 has arrived at the pickup zone for Rider 0.\n",
      "\n",
      "Time Unit: 6\n",
      "Driver State: Driver 0 (State: waiting_for_rider, Zone: Zone (2,7), Time to next zone: 0)\n",
      "Driver 0 picked up Rider 0 and is now in ride.\n",
      "\n",
      "Time Unit: 7\n",
      "Driver State: Driver 0 (State: in_ride, Zone: Zone (2,7), Time to next zone: 3)\n",
      "Driver 0 is traveling. Time to next zone: 2\n",
      "\n",
      "Time Unit: 8\n",
      "Driver State: Driver 0 (State: in_ride, Zone: Zone (2,7), Time to next zone: 2)\n",
      "Driver 0 is traveling. Time to next zone: 1\n",
      "\n",
      "Time Unit: 9\n",
      "Driver State: Driver 0 (State: in_ride, Zone: Zone (2,7), Time to next zone: 1)\n",
      "Driver 0 is traveling. Time to next zone: 0\n",
      "\n",
      "Time Unit: 10\n",
      "Driver State: Driver 0 (State: in_ride, Zone: Zone (2,7), Time to next zone: 0)\n",
      "Driver 0 completed the ride with Rider 0.\n",
      "Driver 0 is now idle.\n"
     ]
    }
   ],
   "source": [
    "simulate_rideshare()"
   ]
  }
 ],
 "metadata": {
  "kernelspec": {
   "display_name": "venv",
   "language": "python",
   "name": "python3"
  },
  "language_info": {
   "codemirror_mode": {
    "name": "ipython",
    "version": 3
   },
   "file_extension": ".py",
   "mimetype": "text/x-python",
   "name": "python",
   "nbconvert_exporter": "python",
   "pygments_lexer": "ipython3",
   "version": "3.12.2"
  }
 },
 "nbformat": 4,
 "nbformat_minor": 2
}
